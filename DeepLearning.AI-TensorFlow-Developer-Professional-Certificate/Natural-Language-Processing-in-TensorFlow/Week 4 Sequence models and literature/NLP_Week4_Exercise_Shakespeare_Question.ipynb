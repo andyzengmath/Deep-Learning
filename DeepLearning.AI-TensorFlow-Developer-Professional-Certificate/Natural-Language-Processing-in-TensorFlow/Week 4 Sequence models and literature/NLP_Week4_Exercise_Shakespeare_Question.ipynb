{
  "nbformat": 4,
  "nbformat_minor": 0,
  "metadata": {
    "accelerator": "GPU",
    "colab": {
      "name": "NLP_Week4_Exercise_Shakespeare_Question.ipynb",
      "provenance": [],
      "toc_visible": true
    },
    "kernelspec": {
      "display_name": "Python 3",
      "name": "python3"
    }
  },
  "cells": [
    {
      "cell_type": "code",
      "metadata": {
        "id": "zX4Kg8DUTKWO"
      },
      "source": [
        "#@title Licensed under the Apache License, Version 2.0 (the \"License\");\n",
        "# you may not use this file except in compliance with the License.\n",
        "# You may obtain a copy of the License at\n",
        "#\n",
        "# https://www.apache.org/licenses/LICENSE-2.0\n",
        "#\n",
        "# Unless required by applicable law or agreed to in writing, software\n",
        "# distributed under the License is distributed on an \"AS IS\" BASIS,\n",
        "# WITHOUT WARRANTIES OR CONDITIONS OF ANY KIND, either express or implied.\n",
        "# See the License for the specific language governing permissions and\n",
        "# limitations under the License."
      ],
      "execution_count": null,
      "outputs": []
    },
    {
      "cell_type": "code",
      "metadata": {
        "id": "BOwsuGQQY9OL"
      },
      "source": [
        "from tensorflow.keras.preprocessing.sequence import pad_sequences\n",
        "from tensorflow.keras.layers import Embedding, LSTM, Dense, Dropout, Bidirectional\n",
        "from tensorflow.keras.preprocessing.text import Tokenizer\n",
        "from tensorflow.keras.models import Sequential\n",
        "from tensorflow.keras.optimizers import Adam\n",
        "### YOUR CODE HERE\n",
        "# Figure out how to import regularizers\n",
        "from tensorflow.keras import regularizers\n",
        "###\n",
        "import tensorflow.keras.utils as ku \n",
        "import numpy as np "
      ],
      "execution_count": 2,
      "outputs": []
    },
    {
      "cell_type": "code",
      "metadata": {
        "colab": {
          "base_uri": "https://localhost:8080/"
        },
        "id": "PRnDnCW-Z7qv",
        "outputId": "a8b09d22-5e98-47e7-b6bc-030276fc5d93"
      },
      "source": [
        "tokenizer = Tokenizer()\n",
        "!wget --no-check-certificate \\\n",
        "    https://storage.googleapis.com/laurencemoroney-blog.appspot.com/sonnets.txt \\\n",
        "    -O /tmp/sonnets.txt\n",
        "data = open('/tmp/sonnets.txt').read()\n",
        "\n",
        "corpus = data.lower().split(\"\\n\")\n",
        "\n",
        "\n",
        "tokenizer.fit_on_texts(corpus)\n",
        "total_words = len(tokenizer.word_index) + 1\n",
        "\n",
        "# create input sequences using list of tokens\n",
        "input_sequences = []\n",
        "for line in corpus:\n",
        "\ttoken_list = tokenizer.texts_to_sequences([line])[0]\n",
        "\tfor i in range(1, len(token_list)):\n",
        "\t\tn_gram_sequence = token_list[:i+1]\n",
        "\t\tinput_sequences.append(n_gram_sequence)\n",
        "\n",
        "\n",
        "# pad sequences \n",
        "max_sequence_len = max([len(x) for x in input_sequences])\n",
        "input_sequences = np.array(pad_sequences(input_sequences, maxlen=max_sequence_len, padding='pre'))\n",
        "\n",
        "# create predictors and label\n",
        "predictors, label = input_sequences[:,:-1],input_sequences[:,-1]\n",
        "\n",
        "label = ku.to_categorical(label, num_classes=total_words)"
      ],
      "execution_count": 3,
      "outputs": [
        {
          "output_type": "stream",
          "text": [
            "--2021-04-24 20:06:25--  https://storage.googleapis.com/laurencemoroney-blog.appspot.com/sonnets.txt\n",
            "Resolving storage.googleapis.com (storage.googleapis.com)... 64.233.189.128, 108.177.97.128, 108.177.125.128, ...\n",
            "Connecting to storage.googleapis.com (storage.googleapis.com)|64.233.189.128|:443... connected.\n",
            "HTTP request sent, awaiting response... 200 OK\n",
            "Length: 93578 (91K) [text/plain]\n",
            "Saving to: ‘/tmp/sonnets.txt’\n",
            "\n",
            "/tmp/sonnets.txt    100%[===================>]  91.38K  --.-KB/s    in 0.001s  \n",
            "\n",
            "2021-04-24 20:06:25 (90.8 MB/s) - ‘/tmp/sonnets.txt’ saved [93578/93578]\n",
            "\n"
          ],
          "name": "stdout"
        }
      ]
    },
    {
      "cell_type": "code",
      "metadata": {
        "colab": {
          "base_uri": "https://localhost:8080/"
        },
        "id": "w9vH8Y59ajYL",
        "outputId": "f8232e9a-5f34-4a99-ce44-46cd726e2552"
      },
      "source": [
        "model = Sequential()\n",
        "model.add(Embedding(total_words, 100, input_length = max_sequence_len - 1))\n",
        "model.add(Bidirectional(LSTM(150, return_sequences= True)))\n",
        "model.add(Dropout(0.2))\n",
        "model.add(LSTM(64))\n",
        "model.add(Dense(total_words / 2, activation = 'relu', kernel_regularizer = regularizers.l2(0.01)))\n",
        "model.add(Dense(total_words, activation = 'softmax'))\n",
        "# Pick an optimizer\n",
        "model.compile(loss = 'categorical_crossentropy', optimizer = 'adam', metrics =  ['accuracy'])\n",
        "print(model.summary())\n"
      ],
      "execution_count": 4,
      "outputs": [
        {
          "output_type": "stream",
          "text": [
            "Model: \"sequential\"\n",
            "_________________________________________________________________\n",
            "Layer (type)                 Output Shape              Param #   \n",
            "=================================================================\n",
            "embedding (Embedding)        (None, 10, 100)           321100    \n",
            "_________________________________________________________________\n",
            "bidirectional (Bidirectional (None, 10, 300)           301200    \n",
            "_________________________________________________________________\n",
            "dropout (Dropout)            (None, 10, 300)           0         \n",
            "_________________________________________________________________\n",
            "lstm_1 (LSTM)                (None, 64)                93440     \n",
            "_________________________________________________________________\n",
            "dense (Dense)                (None, 1605)              104325    \n",
            "_________________________________________________________________\n",
            "dense_1 (Dense)              (None, 3211)              5156866   \n",
            "=================================================================\n",
            "Total params: 5,976,931\n",
            "Trainable params: 5,976,931\n",
            "Non-trainable params: 0\n",
            "_________________________________________________________________\n",
            "None\n"
          ],
          "name": "stdout"
        }
      ]
    },
    {
      "cell_type": "code",
      "metadata": {
        "colab": {
          "base_uri": "https://localhost:8080/"
        },
        "id": "AIg2f1HBxqof",
        "outputId": "4b4902f9-c2cd-4043-fcc4-d8bc3534883c"
      },
      "source": [
        " history = model.fit(predictors, label, epochs=100, verbose=1)"
      ],
      "execution_count": 5,
      "outputs": [
        {
          "output_type": "stream",
          "text": [
            "Epoch 1/100\n",
            "484/484 [==============================] - 45s 25ms/step - loss: 7.2254 - accuracy: 0.0207\n",
            "Epoch 2/100\n",
            "484/484 [==============================] - 12s 25ms/step - loss: 6.4848 - accuracy: 0.0214\n",
            "Epoch 3/100\n",
            "484/484 [==============================] - 12s 25ms/step - loss: 6.3916 - accuracy: 0.0243\n",
            "Epoch 4/100\n",
            "484/484 [==============================] - 12s 25ms/step - loss: 6.2905 - accuracy: 0.0285\n",
            "Epoch 5/100\n",
            "484/484 [==============================] - 12s 25ms/step - loss: 6.2047 - accuracy: 0.0344\n",
            "Epoch 6/100\n",
            "484/484 [==============================] - 12s 25ms/step - loss: 6.1810 - accuracy: 0.0339\n",
            "Epoch 7/100\n",
            "484/484 [==============================] - 12s 25ms/step - loss: 6.1032 - accuracy: 0.0412\n",
            "Epoch 8/100\n",
            "484/484 [==============================] - 12s 25ms/step - loss: 6.0338 - accuracy: 0.0420\n",
            "Epoch 9/100\n",
            "484/484 [==============================] - 12s 25ms/step - loss: 5.9773 - accuracy: 0.0457\n",
            "Epoch 10/100\n",
            "484/484 [==============================] - 12s 25ms/step - loss: 5.9168 - accuracy: 0.0402\n",
            "Epoch 11/100\n",
            "484/484 [==============================] - 12s 25ms/step - loss: 5.8600 - accuracy: 0.0475\n",
            "Epoch 12/100\n",
            "484/484 [==============================] - 12s 25ms/step - loss: 5.7583 - accuracy: 0.0499\n",
            "Epoch 13/100\n",
            "484/484 [==============================] - 12s 25ms/step - loss: 5.6912 - accuracy: 0.0562\n",
            "Epoch 14/100\n",
            "484/484 [==============================] - 12s 25ms/step - loss: 5.5806 - accuracy: 0.0567\n",
            "Epoch 15/100\n",
            "484/484 [==============================] - 12s 25ms/step - loss: 5.5348 - accuracy: 0.0613\n",
            "Epoch 16/100\n",
            "484/484 [==============================] - 12s 25ms/step - loss: 5.4725 - accuracy: 0.0649\n",
            "Epoch 17/100\n",
            "484/484 [==============================] - 12s 25ms/step - loss: 5.4080 - accuracy: 0.0713\n",
            "Epoch 18/100\n",
            "484/484 [==============================] - 12s 25ms/step - loss: 5.3240 - accuracy: 0.0747\n",
            "Epoch 19/100\n",
            "484/484 [==============================] - 12s 25ms/step - loss: 5.2280 - accuracy: 0.0842\n",
            "Epoch 20/100\n",
            "484/484 [==============================] - 12s 25ms/step - loss: 5.1798 - accuracy: 0.0857\n",
            "Epoch 21/100\n",
            "484/484 [==============================] - 12s 25ms/step - loss: 5.0855 - accuracy: 0.0914\n",
            "Epoch 22/100\n",
            "484/484 [==============================] - 12s 25ms/step - loss: 5.0367 - accuracy: 0.0955\n",
            "Epoch 23/100\n",
            "484/484 [==============================] - 12s 25ms/step - loss: 4.9476 - accuracy: 0.0982\n",
            "Epoch 24/100\n",
            "484/484 [==============================] - 12s 25ms/step - loss: 4.8901 - accuracy: 0.1090\n",
            "Epoch 25/100\n",
            "484/484 [==============================] - 12s 25ms/step - loss: 4.8310 - accuracy: 0.1078\n",
            "Epoch 26/100\n",
            "484/484 [==============================] - 12s 25ms/step - loss: 4.7423 - accuracy: 0.1184\n",
            "Epoch 27/100\n",
            "484/484 [==============================] - 12s 25ms/step - loss: 4.6821 - accuracy: 0.1207\n",
            "Epoch 28/100\n",
            "484/484 [==============================] - 12s 25ms/step - loss: 4.5994 - accuracy: 0.1277\n",
            "Epoch 29/100\n",
            "484/484 [==============================] - 12s 25ms/step - loss: 4.5242 - accuracy: 0.1370\n",
            "Epoch 30/100\n",
            "484/484 [==============================] - 12s 25ms/step - loss: 4.4740 - accuracy: 0.1387\n",
            "Epoch 31/100\n",
            "484/484 [==============================] - 12s 25ms/step - loss: 4.4068 - accuracy: 0.1501\n",
            "Epoch 32/100\n",
            "484/484 [==============================] - 12s 25ms/step - loss: 4.3072 - accuracy: 0.1575\n",
            "Epoch 33/100\n",
            "484/484 [==============================] - 12s 25ms/step - loss: 4.2499 - accuracy: 0.1693\n",
            "Epoch 34/100\n",
            "484/484 [==============================] - 12s 25ms/step - loss: 4.1848 - accuracy: 0.1709\n",
            "Epoch 35/100\n",
            "484/484 [==============================] - 12s 25ms/step - loss: 4.1231 - accuracy: 0.1812\n",
            "Epoch 36/100\n",
            "484/484 [==============================] - 12s 25ms/step - loss: 4.0596 - accuracy: 0.1917\n",
            "Epoch 37/100\n",
            "484/484 [==============================] - 12s 25ms/step - loss: 3.9865 - accuracy: 0.2056\n",
            "Epoch 38/100\n",
            "484/484 [==============================] - 12s 25ms/step - loss: 3.9327 - accuracy: 0.2137\n",
            "Epoch 39/100\n",
            "484/484 [==============================] - 12s 26ms/step - loss: 3.8691 - accuracy: 0.2291\n",
            "Epoch 40/100\n",
            "484/484 [==============================] - 12s 25ms/step - loss: 3.7980 - accuracy: 0.2351\n",
            "Epoch 41/100\n",
            "484/484 [==============================] - 12s 25ms/step - loss: 3.7379 - accuracy: 0.2555\n",
            "Epoch 42/100\n",
            "484/484 [==============================] - 12s 25ms/step - loss: 3.6899 - accuracy: 0.2589\n",
            "Epoch 43/100\n",
            "484/484 [==============================] - 12s 25ms/step - loss: 3.6233 - accuracy: 0.2763\n",
            "Epoch 44/100\n",
            "484/484 [==============================] - 12s 26ms/step - loss: 3.6012 - accuracy: 0.2777\n",
            "Epoch 45/100\n",
            "484/484 [==============================] - 12s 26ms/step - loss: 3.4844 - accuracy: 0.3027\n",
            "Epoch 46/100\n",
            "484/484 [==============================] - 12s 25ms/step - loss: 3.4666 - accuracy: 0.3054\n",
            "Epoch 47/100\n",
            "484/484 [==============================] - 12s 26ms/step - loss: 3.4008 - accuracy: 0.3179\n",
            "Epoch 48/100\n",
            "484/484 [==============================] - 12s 26ms/step - loss: 3.3598 - accuracy: 0.3314\n",
            "Epoch 49/100\n",
            "484/484 [==============================] - 12s 25ms/step - loss: 3.3124 - accuracy: 0.3397\n",
            "Epoch 50/100\n",
            "484/484 [==============================] - 12s 25ms/step - loss: 3.2684 - accuracy: 0.3466\n",
            "Epoch 51/100\n",
            "484/484 [==============================] - 12s 25ms/step - loss: 3.2196 - accuracy: 0.3617\n",
            "Epoch 52/100\n",
            "484/484 [==============================] - 12s 25ms/step - loss: 3.2003 - accuracy: 0.3647\n",
            "Epoch 53/100\n",
            "484/484 [==============================] - 12s 25ms/step - loss: 3.1279 - accuracy: 0.3778\n",
            "Epoch 54/100\n",
            "484/484 [==============================] - 12s 25ms/step - loss: 3.0808 - accuracy: 0.3896\n",
            "Epoch 55/100\n",
            "484/484 [==============================] - 12s 25ms/step - loss: 3.0467 - accuracy: 0.3921\n",
            "Epoch 56/100\n",
            "484/484 [==============================] - 12s 26ms/step - loss: 2.9871 - accuracy: 0.4135\n",
            "Epoch 57/100\n",
            "484/484 [==============================] - 12s 26ms/step - loss: 2.9891 - accuracy: 0.4118\n",
            "Epoch 58/100\n",
            "484/484 [==============================] - 12s 25ms/step - loss: 2.9289 - accuracy: 0.4187\n",
            "Epoch 59/100\n",
            "484/484 [==============================] - 12s 25ms/step - loss: 2.8765 - accuracy: 0.4384\n",
            "Epoch 60/100\n",
            "484/484 [==============================] - 12s 26ms/step - loss: 2.8639 - accuracy: 0.4377\n",
            "Epoch 61/100\n",
            "484/484 [==============================] - 12s 26ms/step - loss: 2.8034 - accuracy: 0.4484\n",
            "Epoch 62/100\n",
            "484/484 [==============================] - 12s 26ms/step - loss: 2.7520 - accuracy: 0.4611\n",
            "Epoch 63/100\n",
            "484/484 [==============================] - 12s 26ms/step - loss: 2.7348 - accuracy: 0.4674\n",
            "Epoch 64/100\n",
            "484/484 [==============================] - 12s 26ms/step - loss: 2.7155 - accuracy: 0.4701\n",
            "Epoch 65/100\n",
            "484/484 [==============================] - 12s 26ms/step - loss: 2.6524 - accuracy: 0.4824\n",
            "Epoch 66/100\n",
            "484/484 [==============================] - 12s 26ms/step - loss: 2.6246 - accuracy: 0.4826\n",
            "Epoch 67/100\n",
            "484/484 [==============================] - 12s 25ms/step - loss: 2.5780 - accuracy: 0.5036\n",
            "Epoch 68/100\n",
            "484/484 [==============================] - 12s 26ms/step - loss: 2.5303 - accuracy: 0.5193\n",
            "Epoch 69/100\n",
            "484/484 [==============================] - 12s 26ms/step - loss: 2.5318 - accuracy: 0.5178\n",
            "Epoch 70/100\n",
            "484/484 [==============================] - 12s 26ms/step - loss: 2.5238 - accuracy: 0.5094\n",
            "Epoch 71/100\n",
            "484/484 [==============================] - 12s 25ms/step - loss: 2.4506 - accuracy: 0.5318\n",
            "Epoch 72/100\n",
            "484/484 [==============================] - 12s 25ms/step - loss: 2.4426 - accuracy: 0.5289\n",
            "Epoch 73/100\n",
            "484/484 [==============================] - 12s 25ms/step - loss: 2.3820 - accuracy: 0.5452\n",
            "Epoch 74/100\n",
            "484/484 [==============================] - 12s 26ms/step - loss: 2.3720 - accuracy: 0.5498\n",
            "Epoch 75/100\n",
            "484/484 [==============================] - 12s 26ms/step - loss: 2.3490 - accuracy: 0.5524\n",
            "Epoch 76/100\n",
            "484/484 [==============================] - 12s 25ms/step - loss: 2.2976 - accuracy: 0.5634\n",
            "Epoch 77/100\n",
            "484/484 [==============================] - 12s 26ms/step - loss: 2.3000 - accuracy: 0.5657\n",
            "Epoch 78/100\n",
            "484/484 [==============================] - 12s 25ms/step - loss: 2.2388 - accuracy: 0.5752\n",
            "Epoch 79/100\n",
            "484/484 [==============================] - 12s 26ms/step - loss: 2.2710 - accuracy: 0.5702\n",
            "Epoch 80/100\n",
            "484/484 [==============================] - 12s 26ms/step - loss: 2.1934 - accuracy: 0.5860\n",
            "Epoch 81/100\n",
            "484/484 [==============================] - 12s 25ms/step - loss: 2.2060 - accuracy: 0.5784\n",
            "Epoch 82/100\n",
            "484/484 [==============================] - 12s 26ms/step - loss: 2.1498 - accuracy: 0.5931\n",
            "Epoch 83/100\n",
            "484/484 [==============================] - 12s 26ms/step - loss: 2.1419 - accuracy: 0.6034\n",
            "Epoch 84/100\n",
            "484/484 [==============================] - 12s 26ms/step - loss: 2.1024 - accuracy: 0.6079\n",
            "Epoch 85/100\n",
            "484/484 [==============================] - 12s 26ms/step - loss: 2.0940 - accuracy: 0.6072\n",
            "Epoch 86/100\n",
            "484/484 [==============================] - 12s 26ms/step - loss: 2.0743 - accuracy: 0.6120\n",
            "Epoch 87/100\n",
            "484/484 [==============================] - 12s 26ms/step - loss: 2.0150 - accuracy: 0.6252\n",
            "Epoch 88/100\n",
            "484/484 [==============================] - 12s 26ms/step - loss: 2.0017 - accuracy: 0.6275\n",
            "Epoch 89/100\n",
            "484/484 [==============================] - 12s 26ms/step - loss: 1.9735 - accuracy: 0.6313\n",
            "Epoch 90/100\n",
            "484/484 [==============================] - 12s 26ms/step - loss: 1.9479 - accuracy: 0.6411\n",
            "Epoch 91/100\n",
            "484/484 [==============================] - 12s 25ms/step - loss: 1.9444 - accuracy: 0.6406\n",
            "Epoch 92/100\n",
            "484/484 [==============================] - 12s 25ms/step - loss: 1.9317 - accuracy: 0.6455\n",
            "Epoch 93/100\n",
            "484/484 [==============================] - 12s 26ms/step - loss: 1.9222 - accuracy: 0.6494\n",
            "Epoch 94/100\n",
            "484/484 [==============================] - 13s 26ms/step - loss: 1.8734 - accuracy: 0.6534\n",
            "Epoch 95/100\n",
            "484/484 [==============================] - 12s 26ms/step - loss: 1.8829 - accuracy: 0.6519\n",
            "Epoch 96/100\n",
            "484/484 [==============================] - 12s 26ms/step - loss: 1.8475 - accuracy: 0.6587\n",
            "Epoch 97/100\n",
            "484/484 [==============================] - 12s 26ms/step - loss: 1.8422 - accuracy: 0.6607\n",
            "Epoch 98/100\n",
            "484/484 [==============================] - 12s 26ms/step - loss: 1.7888 - accuracy: 0.6735\n",
            "Epoch 99/100\n",
            "484/484 [==============================] - 13s 26ms/step - loss: 1.8234 - accuracy: 0.6690\n",
            "Epoch 100/100\n",
            "484/484 [==============================] - 12s 26ms/step - loss: 1.7863 - accuracy: 0.6708\n"
          ],
          "name": "stdout"
        }
      ]
    },
    {
      "cell_type": "code",
      "metadata": {
        "colab": {
          "base_uri": "https://localhost:8080/",
          "height": 545
        },
        "id": "1fXTEO3GJ282",
        "outputId": "f8bc4b4d-7783-4f70-9283-4898dcf97d86"
      },
      "source": [
        "import matplotlib.pyplot as plt\n",
        "acc = history.history['accuracy']\n",
        "loss = history.history['loss']\n",
        "\n",
        "epochs = range(len(acc))\n",
        "\n",
        "plt.plot(epochs, acc, 'b', label='Training accuracy')\n",
        "plt.title('Training accuracy')\n",
        "\n",
        "plt.figure()\n",
        "\n",
        "plt.plot(epochs, loss, 'b', label='Training Loss')\n",
        "plt.title('Training loss')\n",
        "plt.legend()\n",
        "\n",
        "plt.show()"
      ],
      "execution_count": 6,
      "outputs": [
        {
          "output_type": "display_data",
          "data": {
            "image/png": "[encoded data removed]",
            "text/plain": [
              "<Figure size 432x288 with 1 Axes>"
            ]
          },
          "metadata": {
            "tags": [],
            "needs_background": "light"
          }
        },
        {
          "output_type": "display_data",
          "data": {
            "image/png": "[encoded data removed]",
            "text/plain": [
              "<Figure size 432x288 with 1 Axes>"
            ]
          },
          "metadata": {
            "tags": [],
            "needs_background": "light"
          }
        }
      ]
    },
    {
      "cell_type": "code",
      "metadata": {
        "colab": {
          "base_uri": "https://localhost:8080/"
        },
        "id": "6Vc6PHgxa6Hm",
        "outputId": "79888bb4-f83e-42f6-a6c8-fa001ced0041"
      },
      "source": [
        "seed_text = \"Help me Obi Wan Kenobi, you're my only hope\"\n",
        "next_words = 100\n",
        "  \n",
        "for _ in range(next_words):\n",
        "\ttoken_list = tokenizer.texts_to_sequences([seed_text])[0]\n",
        "\ttoken_list = pad_sequences([token_list], maxlen=max_sequence_len-1, padding='pre')\n",
        "\tpredicted = model.predict_classes(token_list, verbose=0)\n",
        "\toutput_word = \"\"\n",
        "\tfor word, index in tokenizer.word_index.items():\n",
        "\t\tif index == predicted:\n",
        "\t\t\toutput_word = word\n",
        "\t\t\tbreak\n",
        "\tseed_text += \" \" + output_word\n",
        "print(seed_text)"
      ],
      "execution_count": 7,
      "outputs": [
        {
          "output_type": "stream",
          "text": [
            "/usr/local/lib/python3.7/dist-packages/tensorflow/python/keras/engine/sequential.py:450: UserWarning: `model.predict_classes()` is deprecated and will be removed after 2021-01-01. Please use instead:* `np.argmax(model.predict(x), axis=-1)`,   if your model does multi-class classification   (e.g. if it uses a `softmax` last-layer activation).* `(model.predict(x) > 0.5).astype(\"int32\")`,   if your model does binary classification   (e.g. if it uses a `sigmoid` last-layer activation).\n",
            "  warnings.warn('`model.predict_classes()` is deprecated and '\n"
          ],
          "name": "stderr"
        },
        {
          "output_type": "stream",
          "text": [
            "Help me Obi Wan Kenobi, you're my only hope when you compile light taken new date clearer light increase bright days affords hence which you grow perjured blot to this sort alone aside find thine eye so beloved of me more friend acquainted aside so last her worth so old much spacious doth adieu warm'd fangled pride stay another thee aside room so common lie of thine that thy mind most verse back afloat light light bright end goodly pride sheds bow survey hold so earth by infection devise a tomb so colour or bright quite knights fitted look are hell still loss alone now his praise shall weeks\n"
          ],
          "name": "stdout"
        }
      ]
    }
  ]
}