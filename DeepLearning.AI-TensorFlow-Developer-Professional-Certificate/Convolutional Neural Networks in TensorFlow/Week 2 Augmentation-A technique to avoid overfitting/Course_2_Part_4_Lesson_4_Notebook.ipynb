{
  "nbformat": 4,
  "nbformat_minor": 0,
  "metadata": {
    "accelerator": "GPU",
    "colab": {
      "name": "Course 2 - Part 4 - Lesson 4 - Notebook.ipynb",
      "provenance": [],
      "collapsed_sections": [],
      "toc_visible": true
    },
    "kernelspec": {
      "display_name": "Python 3",
      "name": "python3"
    }
  },
  "cells": [
    {
      "cell_type": "markdown",
      "metadata": {
        "id": "rX8mhOLljYeM"
      },
      "source": [
        "##### Copyright 2019 The TensorFlow Authors."
      ]
    },
    {
      "cell_type": "code",
      "metadata": {
        "cellView": "form",
        "id": "BZSlp3DAjdYf"
      },
      "source": [
        "#@title Licensed under the Apache License, Version 2.0 (the \"License\");\n",
        "# you may not use this file except in compliance with the License.\n",
        "# You may obtain a copy of the License at\n",
        "#\n",
        "# https://www.apache.org/licenses/LICENSE-2.0\n",
        "#\n",
        "# Unless required by applicable law or agreed to in writing, software\n",
        "# distributed under the License is distributed on an \"AS IS\" BASIS,\n",
        "# WITHOUT WARRANTIES OR CONDITIONS OF ANY KIND, either express or implied.\n",
        "# See the License for the specific language governing permissions and\n",
        "# limitations under the License."
      ],
      "execution_count": null,
      "outputs": []
    },
    {
      "cell_type": "code",
      "metadata": {
        "colab": {
          "base_uri": "https://localhost:8080/"
        },
        "id": "RXZT2UsyIVe_",
        "outputId": "046a8be3-c8f2-401c-b578-c4a13661e232"
      },
      "source": [
        "!wget --no-check-certificate \\\n",
        "    https://storage.googleapis.com/laurencemoroney-blog.appspot.com/horse-or-human.zip \\\n",
        "    -O /tmp/horse-or-human.zip\n",
        "\n",
        "!wget --no-check-certificate \\\n",
        "    https://storage.googleapis.com/laurencemoroney-blog.appspot.com/validation-horse-or-human.zip \\\n",
        "    -O /tmp/validation-horse-or-human.zip\n",
        "  \n",
        "import os\n",
        "import zipfile\n",
        "\n",
        "local_zip = '/tmp/horse-or-human.zip'\n",
        "zip_ref = zipfile.ZipFile(local_zip, 'r')\n",
        "zip_ref.extractall('/tmp/horse-or-human')\n",
        "local_zip = '/tmp/validation-horse-or-human.zip'\n",
        "zip_ref = zipfile.ZipFile(local_zip, 'r')\n",
        "zip_ref.extractall('/tmp/validation-horse-or-human')\n",
        "zip_ref.close()\n",
        "# Directory with our training horse pictures\n",
        "train_horse_dir = os.path.join('/tmp/horse-or-human/horses')\n",
        "\n",
        "# Directory with our training human pictures\n",
        "train_human_dir = os.path.join('/tmp/horse-or-human/humans')\n",
        "\n",
        "# Directory with our training horse pictures\n",
        "validation_horse_dir = os.path.join('/tmp/validation-horse-or-human/horses')\n",
        "\n",
        "# Directory with our training human pictures\n",
        "validation_human_dir = os.path.join('/tmp/validation-horse-or-human/humans')"
      ],
      "execution_count": 1,
      "outputs": [
        {
          "output_type": "stream",
          "text": [
            "--2021-04-20 21:45:57--  https://storage.googleapis.com/laurencemoroney-blog.appspot.com/horse-or-human.zip\n",
            "Resolving storage.googleapis.com (storage.googleapis.com)... 74.125.195.128, 74.125.20.128, 74.125.142.128, ...\n",
            "Connecting to storage.googleapis.com (storage.googleapis.com)|74.125.195.128|:443... connected.\n",
            "HTTP request sent, awaiting response... 200 OK\n",
            "Length: 149574867 (143M) [application/zip]\n",
            "Saving to: ‘/tmp/horse-or-human.zip’\n",
            "\n",
            "/tmp/horse-or-human 100%[===================>] 142.65M   167MB/s    in 0.9s    \n",
            "\n",
            "2021-04-20 21:45:58 (167 MB/s) - ‘/tmp/horse-or-human.zip’ saved [149574867/149574867]\n",
            "\n",
            "--2021-04-20 21:45:58--  https://storage.googleapis.com/laurencemoroney-blog.appspot.com/validation-horse-or-human.zip\n",
            "Resolving storage.googleapis.com (storage.googleapis.com)... 173.194.203.128, 74.125.20.128, 74.125.197.128, ...\n",
            "Connecting to storage.googleapis.com (storage.googleapis.com)|173.194.203.128|:443... connected.\n",
            "HTTP request sent, awaiting response... 200 OK\n",
            "Length: 11480187 (11M) [application/zip]\n",
            "Saving to: ‘/tmp/validation-horse-or-human.zip’\n",
            "\n",
            "/tmp/validation-hor 100%[===================>]  10.95M  58.1MB/s    in 0.2s    \n",
            "\n",
            "2021-04-20 21:45:59 (58.1 MB/s) - ‘/tmp/validation-horse-or-human.zip’ saved [11480187/11480187]\n",
            "\n"
          ],
          "name": "stdout"
        }
      ]
    },
    {
      "cell_type": "markdown",
      "metadata": {
        "id": "5oqBkNBJmtUv"
      },
      "source": [
        "## Building a Small Model from Scratch\n",
        "\n",
        "But before we continue, let's start defining the model:\n",
        "\n",
        "Step 1 will be to import tensorflow."
      ]
    },
    {
      "cell_type": "code",
      "metadata": {
        "id": "qvfZg3LQbD-5"
      },
      "source": [
        "import tensorflow as tf"
      ],
      "execution_count": 2,
      "outputs": []
    },
    {
      "cell_type": "markdown",
      "metadata": {
        "id": "BnhYCP4tdqjC"
      },
      "source": [
        "We then add convolutional layers as in the previous example, and flatten the final result to feed into the densely connected layers."
      ]
    },
    {
      "cell_type": "markdown",
      "metadata": {
        "id": "gokG5HKpdtzm"
      },
      "source": [
        "Finally we add the densely connected layers. \n",
        "\n",
        "Note that because we are facing a two-class classification problem, i.e. a *binary classification problem*, we will end our network with a [*sigmoid* activation](https://wikipedia.org/wiki/Sigmoid_function), so that the output of our network will be a single scalar between 0 and 1, encoding the probability that the current image is class 1 (as opposed to class 0)."
      ]
    },
    {
      "cell_type": "code",
      "metadata": {
        "id": "PixZ2s5QbYQ3"
      },
      "source": [
        "model = tf.keras.models.Sequential([\n",
        "    # Note the input shape is the desired size of the image 300x300 with 3 bytes color\n",
        "    # This is the first convolution\n",
        "    tf.keras.layers.Conv2D(16, (3,3), activation='relu', input_shape=(300, 300, 3)),\n",
        "    tf.keras.layers.MaxPooling2D(2, 2),\n",
        "    # The second convolution\n",
        "    tf.keras.layers.Conv2D(32, (3,3), activation='relu'),\n",
        "    tf.keras.layers.MaxPooling2D(2,2),\n",
        "    # The third convolution\n",
        "    tf.keras.layers.Conv2D(64, (3,3), activation='relu'),\n",
        "    tf.keras.layers.MaxPooling2D(2,2),\n",
        "    # The fourth convolution\n",
        "    tf.keras.layers.Conv2D(64, (3,3), activation='relu'),\n",
        "    tf.keras.layers.MaxPooling2D(2,2),\n",
        "    # The fifth convolution\n",
        "    tf.keras.layers.Conv2D(64, (3,3), activation='relu'),\n",
        "    tf.keras.layers.MaxPooling2D(2,2),\n",
        "    # Flatten the results to feed into a DNN\n",
        "    tf.keras.layers.Flatten(),\n",
        "    # 512 neuron hidden layer\n",
        "    tf.keras.layers.Dense(512, activation='relu'),\n",
        "    # Only 1 output neuron. It will contain a value from 0-1 where 0 for 1 class ('horses') and 1 for the other ('humans')\n",
        "    tf.keras.layers.Dense(1, activation='sigmoid')\n",
        "])"
      ],
      "execution_count": 3,
      "outputs": []
    },
    {
      "cell_type": "code",
      "metadata": {
        "id": "8DHWhFP_uhq3"
      },
      "source": [
        "from tensorflow.keras.optimizers import RMSprop\n",
        "\n",
        "model.compile(loss='binary_crossentropy',\n",
        "              optimizer=RMSprop(lr=1e-4),\n",
        "              metrics=['accuracy'])"
      ],
      "execution_count": 4,
      "outputs": []
    },
    {
      "cell_type": "code",
      "metadata": {
        "colab": {
          "base_uri": "https://localhost:8080/"
        },
        "id": "ClebU9NJg99G",
        "outputId": "15b07e42-fe56-46a8-cd0b-30434b5e7b59"
      },
      "source": [
        "from tensorflow.keras.preprocessing.image import ImageDataGenerator\n",
        "\n",
        "# All images will be rescaled by 1./255\n",
        "train_datagen = ImageDataGenerator(\n",
        "      rescale=1./255,\n",
        "      rotation_range=40,\n",
        "      width_shift_range=0.2,\n",
        "      height_shift_range=0.2,\n",
        "      shear_range=0.2,\n",
        "      zoom_range=0.2,\n",
        "      horizontal_flip=True,\n",
        "      fill_mode='nearest')\n",
        "\n",
        "validation_datagen = ImageDataGenerator(rescale=1/255)\n",
        "\n",
        "# Flow training images in batches of 128 using train_datagen generator\n",
        "train_generator = train_datagen.flow_from_directory(\n",
        "        '/tmp/horse-or-human/',  # This is the source directory for training images\n",
        "        target_size=(300, 300),  # All images will be resized to 150x150\n",
        "        batch_size=128,\n",
        "        # Since we use binary_crossentropy loss, we need binary labels\n",
        "        class_mode='binary')\n",
        "\n",
        "# Flow training images in batches of 128 using train_datagen generator\n",
        "validation_generator = validation_datagen.flow_from_directory(\n",
        "        '/tmp/validation-horse-or-human/',  # This is the source directory for training images\n",
        "        target_size=(300, 300),  # All images will be resized to 150x150\n",
        "        batch_size=32,\n",
        "        # Since we use binary_crossentropy loss, we need binary labels\n",
        "        class_mode='binary')"
      ],
      "execution_count": 5,
      "outputs": [
        {
          "output_type": "stream",
          "text": [
            "Found 1027 images belonging to 2 classes.\n",
            "Found 256 images belonging to 2 classes.\n"
          ],
          "name": "stdout"
        }
      ]
    },
    {
      "cell_type": "code",
      "metadata": {
        "colab": {
          "base_uri": "https://localhost:8080/"
        },
        "id": "Fb1_lgobv81m",
        "outputId": "13d50d66-9d8e-4733-8894-ccca34549f07"
      },
      "source": [
        "history = model.fit(\n",
        "      train_generator,\n",
        "      steps_per_epoch=8,  \n",
        "      epochs=100,\n",
        "      verbose=1,\n",
        "      validation_data = validation_generator,\n",
        "      validation_steps=8)"
      ],
      "execution_count": 6,
      "outputs": [
        {
          "output_type": "stream",
          "text": [
            "Epoch 1/100\n",
            "8/8 [==============================] - 53s 3s/step - loss: 0.6868 - accuracy: 0.5979 - val_loss: 0.6920 - val_accuracy: 0.5000\n",
            "Epoch 2/100\n",
            "8/8 [==============================] - 23s 3s/step - loss: 0.6714 - accuracy: 0.5889 - val_loss: 0.6933 - val_accuracy: 0.5078\n",
            "Epoch 3/100\n",
            "8/8 [==============================] - 21s 3s/step - loss: 0.6476 - accuracy: 0.6584 - val_loss: 0.6680 - val_accuracy: 0.5664\n",
            "Epoch 4/100\n",
            "8/8 [==============================] - 23s 3s/step - loss: 0.5889 - accuracy: 0.7338 - val_loss: 0.7988 - val_accuracy: 0.5312\n",
            "Epoch 5/100\n",
            "8/8 [==============================] - 21s 3s/step - loss: 0.5620 - accuracy: 0.7294 - val_loss: 0.7282 - val_accuracy: 0.5664\n",
            "Epoch 6/100\n",
            "8/8 [==============================] - 21s 3s/step - loss: 0.5608 - accuracy: 0.7397 - val_loss: 1.2909 - val_accuracy: 0.5195\n",
            "Epoch 7/100\n",
            "8/8 [==============================] - 23s 3s/step - loss: 0.5173 - accuracy: 0.7407 - val_loss: 1.5985 - val_accuracy: 0.5039\n",
            "Epoch 8/100\n",
            "8/8 [==============================] - 21s 3s/step - loss: 0.5590 - accuracy: 0.7155 - val_loss: 1.1462 - val_accuracy: 0.5508\n",
            "Epoch 9/100\n",
            "8/8 [==============================] - 23s 3s/step - loss: 0.4670 - accuracy: 0.7940 - val_loss: 1.8880 - val_accuracy: 0.5000\n",
            "Epoch 10/100\n",
            "8/8 [==============================] - 21s 3s/step - loss: 0.5163 - accuracy: 0.7652 - val_loss: 1.3754 - val_accuracy: 0.5234\n",
            "Epoch 11/100\n",
            "8/8 [==============================] - 21s 3s/step - loss: 0.4705 - accuracy: 0.7877 - val_loss: 1.3473 - val_accuracy: 0.5312\n",
            "Epoch 12/100\n",
            "8/8 [==============================] - 21s 3s/step - loss: 0.4618 - accuracy: 0.7973 - val_loss: 1.1371 - val_accuracy: 0.5664\n",
            "Epoch 13/100\n",
            "8/8 [==============================] - 21s 3s/step - loss: 0.4241 - accuracy: 0.8160 - val_loss: 1.1554 - val_accuracy: 0.5820\n",
            "Epoch 14/100\n",
            "8/8 [==============================] - 21s 3s/step - loss: 0.4675 - accuracy: 0.7841 - val_loss: 1.2129 - val_accuracy: 0.5703\n",
            "Epoch 15/100\n",
            "8/8 [==============================] - 21s 3s/step - loss: 0.4493 - accuracy: 0.7780 - val_loss: 1.4819 - val_accuracy: 0.5508\n",
            "Epoch 16/100\n",
            "8/8 [==============================] - 21s 3s/step - loss: 0.4241 - accuracy: 0.8160 - val_loss: 1.2462 - val_accuracy: 0.5898\n",
            "Epoch 17/100\n",
            "8/8 [==============================] - 21s 3s/step - loss: 0.4293 - accuracy: 0.8074 - val_loss: 1.3100 - val_accuracy: 0.5625\n",
            "Epoch 18/100\n",
            "8/8 [==============================] - 23s 3s/step - loss: 0.3847 - accuracy: 0.8318 - val_loss: 1.4253 - val_accuracy: 0.5820\n",
            "Epoch 19/100\n",
            "8/8 [==============================] - 21s 3s/step - loss: 0.4243 - accuracy: 0.8176 - val_loss: 1.6405 - val_accuracy: 0.5547\n",
            "Epoch 20/100\n",
            "8/8 [==============================] - 23s 3s/step - loss: 0.3804 - accuracy: 0.8344 - val_loss: 2.1066 - val_accuracy: 0.5312\n",
            "Epoch 21/100\n",
            "8/8 [==============================] - 21s 3s/step - loss: 0.4269 - accuracy: 0.8110 - val_loss: 1.6952 - val_accuracy: 0.5430\n",
            "Epoch 22/100\n",
            "8/8 [==============================] - 21s 3s/step - loss: 0.3469 - accuracy: 0.8520 - val_loss: 2.2016 - val_accuracy: 0.5234\n",
            "Epoch 23/100\n",
            "8/8 [==============================] - 21s 3s/step - loss: 0.3064 - accuracy: 0.8843 - val_loss: 2.4671 - val_accuracy: 0.5273\n",
            "Epoch 24/100\n",
            "8/8 [==============================] - 21s 3s/step - loss: 0.4223 - accuracy: 0.8108 - val_loss: 1.6251 - val_accuracy: 0.6094\n",
            "Epoch 25/100\n",
            "8/8 [==============================] - 21s 3s/step - loss: 0.3027 - accuracy: 0.8743 - val_loss: 2.9082 - val_accuracy: 0.5039\n",
            "Epoch 26/100\n",
            "8/8 [==============================] - 21s 3s/step - loss: 0.3181 - accuracy: 0.8586 - val_loss: 1.8963 - val_accuracy: 0.5977\n",
            "Epoch 27/100\n",
            "8/8 [==============================] - 21s 3s/step - loss: 0.3364 - accuracy: 0.8562 - val_loss: 2.6380 - val_accuracy: 0.5195\n",
            "Epoch 28/100\n",
            "8/8 [==============================] - 21s 3s/step - loss: 0.3011 - accuracy: 0.8645 - val_loss: 3.9251 - val_accuracy: 0.5000\n",
            "Epoch 29/100\n",
            "8/8 [==============================] - 21s 3s/step - loss: 0.4069 - accuracy: 0.7991 - val_loss: 2.1096 - val_accuracy: 0.5898\n",
            "Epoch 30/100\n",
            "8/8 [==============================] - 21s 3s/step - loss: 0.2789 - accuracy: 0.8872 - val_loss: 2.0592 - val_accuracy: 0.6211\n",
            "Epoch 31/100\n",
            "8/8 [==============================] - 21s 3s/step - loss: 0.3347 - accuracy: 0.8465 - val_loss: 4.4510 - val_accuracy: 0.5000\n",
            "Epoch 32/100\n",
            "8/8 [==============================] - 21s 3s/step - loss: 0.3848 - accuracy: 0.8153 - val_loss: 2.3824 - val_accuracy: 0.5391\n",
            "Epoch 33/100\n",
            "8/8 [==============================] - 21s 3s/step - loss: 0.3283 - accuracy: 0.8586 - val_loss: 2.2018 - val_accuracy: 0.5781\n",
            "Epoch 34/100\n",
            "8/8 [==============================] - 21s 3s/step - loss: 0.2625 - accuracy: 0.8896 - val_loss: 1.7258 - val_accuracy: 0.6641\n",
            "Epoch 35/100\n",
            "8/8 [==============================] - 21s 3s/step - loss: 0.3680 - accuracy: 0.8343 - val_loss: 3.6795 - val_accuracy: 0.5117\n",
            "Epoch 36/100\n",
            "8/8 [==============================] - 23s 3s/step - loss: 0.2920 - accuracy: 0.8750 - val_loss: 2.6117 - val_accuracy: 0.5547\n",
            "Epoch 37/100\n",
            "8/8 [==============================] - 21s 3s/step - loss: 0.2755 - accuracy: 0.8791 - val_loss: 2.2924 - val_accuracy: 0.5781\n",
            "Epoch 38/100\n",
            "8/8 [==============================] - 21s 3s/step - loss: 0.2376 - accuracy: 0.9064 - val_loss: 3.0352 - val_accuracy: 0.5391\n",
            "Epoch 39/100\n",
            "8/8 [==============================] - 21s 3s/step - loss: 0.2586 - accuracy: 0.8921 - val_loss: 2.9367 - val_accuracy: 0.5430\n",
            "Epoch 40/100\n",
            "8/8 [==============================] - 21s 3s/step - loss: 0.2474 - accuracy: 0.8946 - val_loss: 4.6690 - val_accuracy: 0.5000\n",
            "Epoch 41/100\n",
            "8/8 [==============================] - 21s 3s/step - loss: 0.4107 - accuracy: 0.8147 - val_loss: 2.6270 - val_accuracy: 0.5703\n",
            "Epoch 42/100\n",
            "8/8 [==============================] - 21s 3s/step - loss: 0.2606 - accuracy: 0.8929 - val_loss: 2.5143 - val_accuracy: 0.5703\n",
            "Epoch 43/100\n",
            "8/8 [==============================] - 21s 3s/step - loss: 0.2205 - accuracy: 0.9105 - val_loss: 2.7655 - val_accuracy: 0.5781\n",
            "Epoch 44/100\n",
            "8/8 [==============================] - 21s 3s/step - loss: 0.2119 - accuracy: 0.9203 - val_loss: 3.5178 - val_accuracy: 0.5117\n",
            "Epoch 45/100\n",
            "8/8 [==============================] - 21s 3s/step - loss: 0.2886 - accuracy: 0.8693 - val_loss: 2.6419 - val_accuracy: 0.5938\n",
            "Epoch 46/100\n",
            "8/8 [==============================] - 21s 3s/step - loss: 0.2708 - accuracy: 0.8808 - val_loss: 2.1839 - val_accuracy: 0.6406\n",
            "Epoch 47/100\n",
            "8/8 [==============================] - 21s 3s/step - loss: 0.2444 - accuracy: 0.8857 - val_loss: 2.8247 - val_accuracy: 0.5820\n",
            "Epoch 48/100\n",
            "8/8 [==============================] - 23s 3s/step - loss: 0.2203 - accuracy: 0.9167 - val_loss: 2.5845 - val_accuracy: 0.6211\n",
            "Epoch 49/100\n",
            "8/8 [==============================] - 21s 3s/step - loss: 0.2364 - accuracy: 0.9083 - val_loss: 2.4471 - val_accuracy: 0.6211\n",
            "Epoch 50/100\n",
            "8/8 [==============================] - 21s 3s/step - loss: 0.2359 - accuracy: 0.9011 - val_loss: 2.2742 - val_accuracy: 0.6445\n",
            "Epoch 51/100\n",
            "8/8 [==============================] - 21s 3s/step - loss: 0.2386 - accuracy: 0.8875 - val_loss: 3.7852 - val_accuracy: 0.5352\n",
            "Epoch 52/100\n",
            "8/8 [==============================] - 21s 3s/step - loss: 0.2717 - accuracy: 0.8935 - val_loss: 2.9062 - val_accuracy: 0.5898\n",
            "Epoch 53/100\n",
            "8/8 [==============================] - 21s 3s/step - loss: 0.2113 - accuracy: 0.9167 - val_loss: 3.0693 - val_accuracy: 0.5859\n",
            "Epoch 54/100\n",
            "8/8 [==============================] - 21s 3s/step - loss: 0.1724 - accuracy: 0.9259 - val_loss: 1.1957 - val_accuracy: 0.7617\n",
            "Epoch 55/100\n",
            "8/8 [==============================] - 21s 3s/step - loss: 0.4374 - accuracy: 0.8479 - val_loss: 3.1667 - val_accuracy: 0.5820\n",
            "Epoch 56/100\n",
            "8/8 [==============================] - 21s 3s/step - loss: 0.1863 - accuracy: 0.9290 - val_loss: 6.2052 - val_accuracy: 0.5000\n",
            "Epoch 57/100\n",
            "8/8 [==============================] - 21s 3s/step - loss: 0.3232 - accuracy: 0.8545 - val_loss: 3.0698 - val_accuracy: 0.5938\n",
            "Epoch 58/100\n",
            "8/8 [==============================] - 23s 3s/step - loss: 0.2011 - accuracy: 0.9155 - val_loss: 2.8443 - val_accuracy: 0.6211\n",
            "Epoch 59/100\n",
            "8/8 [==============================] - 21s 3s/step - loss: 0.2113 - accuracy: 0.9136 - val_loss: 3.6712 - val_accuracy: 0.5859\n",
            "Epoch 60/100\n",
            "8/8 [==============================] - 21s 3s/step - loss: 0.2160 - accuracy: 0.9197 - val_loss: 3.6414 - val_accuracy: 0.5781\n",
            "Epoch 61/100\n",
            "8/8 [==============================] - 21s 3s/step - loss: 0.1687 - accuracy: 0.9346 - val_loss: 5.3024 - val_accuracy: 0.5078\n",
            "Epoch 62/100\n",
            "8/8 [==============================] - 21s 3s/step - loss: 0.3820 - accuracy: 0.8486 - val_loss: 3.1902 - val_accuracy: 0.5859\n",
            "Epoch 63/100\n",
            "8/8 [==============================] - 21s 3s/step - loss: 0.1632 - accuracy: 0.9392 - val_loss: 5.0291 - val_accuracy: 0.5352\n",
            "Epoch 64/100\n",
            "8/8 [==============================] - 21s 3s/step - loss: 0.1804 - accuracy: 0.9290 - val_loss: 3.0708 - val_accuracy: 0.5938\n",
            "Epoch 65/100\n",
            "8/8 [==============================] - 21s 3s/step - loss: 0.2415 - accuracy: 0.8977 - val_loss: 3.0142 - val_accuracy: 0.6133\n",
            "Epoch 66/100\n",
            "8/8 [==============================] - 21s 3s/step - loss: 0.2091 - accuracy: 0.8972 - val_loss: 2.8760 - val_accuracy: 0.6211\n",
            "Epoch 67/100\n",
            "8/8 [==============================] - 21s 3s/step - loss: 0.2166 - accuracy: 0.9035 - val_loss: 3.3267 - val_accuracy: 0.5898\n",
            "Epoch 68/100\n",
            "8/8 [==============================] - 21s 3s/step - loss: 0.1773 - accuracy: 0.9296 - val_loss: 3.3414 - val_accuracy: 0.5898\n",
            "Epoch 69/100\n",
            "8/8 [==============================] - 23s 3s/step - loss: 0.1557 - accuracy: 0.9418 - val_loss: 3.4487 - val_accuracy: 0.5898\n",
            "Epoch 70/100\n",
            "8/8 [==============================] - 21s 3s/step - loss: 0.1983 - accuracy: 0.9117 - val_loss: 2.8621 - val_accuracy: 0.6484\n",
            "Epoch 71/100\n",
            "8/8 [==============================] - 21s 3s/step - loss: 0.1712 - accuracy: 0.9303 - val_loss: 3.8550 - val_accuracy: 0.5859\n",
            "Epoch 72/100\n",
            "8/8 [==============================] - 21s 3s/step - loss: 0.2141 - accuracy: 0.9207 - val_loss: 3.2808 - val_accuracy: 0.6250\n",
            "Epoch 73/100\n",
            "8/8 [==============================] - 23s 3s/step - loss: 0.1607 - accuracy: 0.9324 - val_loss: 3.4757 - val_accuracy: 0.6094\n",
            "Epoch 74/100\n",
            "8/8 [==============================] - 21s 3s/step - loss: 0.5177 - accuracy: 0.7851 - val_loss: 3.4478 - val_accuracy: 0.6016\n",
            "Epoch 75/100\n",
            "8/8 [==============================] - 21s 3s/step - loss: 0.1845 - accuracy: 0.9222 - val_loss: 3.0660 - val_accuracy: 0.6250\n",
            "Epoch 76/100\n",
            "8/8 [==============================] - 21s 3s/step - loss: 0.1604 - accuracy: 0.9358 - val_loss: 2.9437 - val_accuracy: 0.6484\n",
            "Epoch 77/100\n",
            "8/8 [==============================] - 21s 3s/step - loss: 0.1237 - accuracy: 0.9563 - val_loss: 4.3094 - val_accuracy: 0.6016\n",
            "Epoch 78/100\n",
            "8/8 [==============================] - 23s 3s/step - loss: 0.1222 - accuracy: 0.9561 - val_loss: 3.2624 - val_accuracy: 0.6445\n",
            "Epoch 79/100\n",
            "8/8 [==============================] - 21s 3s/step - loss: 0.2446 - accuracy: 0.9014 - val_loss: 2.9783 - val_accuracy: 0.6445\n",
            "Epoch 80/100\n",
            "8/8 [==============================] - 21s 3s/step - loss: 0.1833 - accuracy: 0.9238 - val_loss: 3.1456 - val_accuracy: 0.6367\n",
            "Epoch 81/100\n",
            "8/8 [==============================] - 21s 3s/step - loss: 0.1253 - accuracy: 0.9529 - val_loss: 7.3137 - val_accuracy: 0.5000\n",
            "Epoch 82/100\n",
            "8/8 [==============================] - 21s 3s/step - loss: 0.3302 - accuracy: 0.8774 - val_loss: 3.5301 - val_accuracy: 0.6094\n",
            "Epoch 83/100\n",
            "8/8 [==============================] - 23s 3s/step - loss: 0.1418 - accuracy: 0.9478 - val_loss: 2.8991 - val_accuracy: 0.6445\n",
            "Epoch 84/100\n",
            "8/8 [==============================] - 21s 3s/step - loss: 0.1553 - accuracy: 0.9427 - val_loss: 3.5046 - val_accuracy: 0.6172\n",
            "Epoch 85/100\n",
            "8/8 [==============================] - 21s 3s/step - loss: 0.1233 - accuracy: 0.9522 - val_loss: 2.0259 - val_accuracy: 0.7031\n",
            "Epoch 86/100\n",
            "8/8 [==============================] - 21s 3s/step - loss: 0.1556 - accuracy: 0.9380 - val_loss: 3.3422 - val_accuracy: 0.6406\n",
            "Epoch 87/100\n",
            "8/8 [==============================] - 23s 3s/step - loss: 0.1528 - accuracy: 0.9352 - val_loss: 2.7213 - val_accuracy: 0.6641\n",
            "Epoch 88/100\n",
            "8/8 [==============================] - 21s 3s/step - loss: 0.2401 - accuracy: 0.8957 - val_loss: 1.6991 - val_accuracy: 0.7383\n",
            "Epoch 89/100\n",
            "8/8 [==============================] - 21s 3s/step - loss: 0.2430 - accuracy: 0.8947 - val_loss: 3.2130 - val_accuracy: 0.6328\n",
            "Epoch 90/100\n",
            "8/8 [==============================] - 21s 3s/step - loss: 0.1209 - accuracy: 0.9569 - val_loss: 2.2821 - val_accuracy: 0.6992\n",
            "Epoch 91/100\n",
            "8/8 [==============================] - 21s 3s/step - loss: 0.1869 - accuracy: 0.9178 - val_loss: 5.1934 - val_accuracy: 0.5586\n",
            "Epoch 92/100\n",
            "8/8 [==============================] - 21s 3s/step - loss: 0.1815 - accuracy: 0.9227 - val_loss: 4.6744 - val_accuracy: 0.5781\n",
            "Epoch 93/100\n",
            "8/8 [==============================] - 21s 3s/step - loss: 0.2078 - accuracy: 0.9206 - val_loss: 3.4039 - val_accuracy: 0.6367\n",
            "Epoch 94/100\n",
            "8/8 [==============================] - 21s 3s/step - loss: 0.1068 - accuracy: 0.9541 - val_loss: 3.5293 - val_accuracy: 0.6445\n",
            "Epoch 95/100\n",
            "8/8 [==============================] - 21s 3s/step - loss: 0.1243 - accuracy: 0.9558 - val_loss: 2.9404 - val_accuracy: 0.6641\n",
            "Epoch 96/100\n",
            "8/8 [==============================] - 21s 3s/step - loss: 0.1141 - accuracy: 0.9547 - val_loss: 3.0737 - val_accuracy: 0.6680\n",
            "Epoch 97/100\n",
            "8/8 [==============================] - 21s 3s/step - loss: 0.1861 - accuracy: 0.9205 - val_loss: 3.7222 - val_accuracy: 0.6406\n",
            "Epoch 98/100\n",
            "8/8 [==============================] - 23s 3s/step - loss: 0.1046 - accuracy: 0.9657 - val_loss: 5.4718 - val_accuracy: 0.5508\n",
            "Epoch 99/100\n",
            "8/8 [==============================] - 21s 3s/step - loss: 0.1508 - accuracy: 0.9281 - val_loss: 2.8436 - val_accuracy: 0.6641\n",
            "Epoch 100/100\n",
            "8/8 [==============================] - 21s 3s/step - loss: 0.1390 - accuracy: 0.9490 - val_loss: 4.9280 - val_accuracy: 0.5625\n"
          ],
          "name": "stdout"
        }
      ]
    },
    {
      "cell_type": "code",
      "metadata": {
        "colab": {
          "base_uri": "https://localhost:8080/",
          "height": 545
        },
        "id": "7zNPRWOVJdOH",
        "outputId": "34a520a3-062b-41cd-e48d-35e3fdf38722"
      },
      "source": [
        "import matplotlib.pyplot as plt\n",
        "acc = history.history['accuracy']\n",
        "val_acc = history.history['val_accuracy']\n",
        "loss = history.history['loss']\n",
        "val_loss = history.history['val_loss']\n",
        "\n",
        "epochs = range(len(acc))\n",
        "\n",
        "plt.plot(epochs, acc, 'r', label='Training accuracy')\n",
        "plt.plot(epochs, val_acc, 'b', label='Validation accuracy')\n",
        "plt.title('Training and validation accuracy')\n",
        "\n",
        "plt.figure()\n",
        "\n",
        "plt.plot(epochs, loss, 'r', label='Training Loss')\n",
        "plt.plot(epochs, val_loss, 'b', label='Validation Loss')\n",
        "plt.title('Training and validation loss')\n",
        "plt.legend()\n",
        "\n",
        "plt.show()"
      ],
      "execution_count": 7,
      "outputs": [
        {
          "output_type": "display_data",
          "data": {
            "image/png": "[encoded data removed]",
            "text/plain": [
              "<Figure size 432x288 with 1 Axes>"
            ]
          },
          "metadata": {
            "tags": [],
            "needs_background": "light"
          }
        },
        {
          "output_type": "display_data",
          "data": {
            "image/png": "[encoded data removed]",
            "text/plain": [
              "<Figure size 432x288 with 1 Axes>"
            ]
          },
          "metadata": {
            "tags": [],
            "needs_background": "light"
          }
        }
      ]
    }
  ]
}